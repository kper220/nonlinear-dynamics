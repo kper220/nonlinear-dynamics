{
 "cells": [
  {
   "cell_type": "markdown",
   "metadata": {},
   "source": [
    "State space diagrams"
   ]
  },
  {
   "cell_type": "code",
   "execution_count": null,
   "metadata": {},
   "outputs": [],
   "source": [
    "import matplotlib.pyplot as plt\n",
    "from mpl_toolkits import mplot3d\n",
    "import numpy as np\n",
    "\n",
    "from driven_damped_pendulum import solve, difference, repeated_points, state_space_trajectory"
   ]
  },
  {
   "cell_type": "code",
   "execution_count": null,
   "metadata": {},
   "outputs": [],
   "source": [
    "# initial conditions\n",
    "w = 2*np.pi\n",
    "w0 = 1.5*w\n",
    "b = w0/4\n",
    "initial_value = np.array([-np.pi/2, 0])\n",
    "\n",
    "# sample spaces\n",
    "tt = np.linspace(0, 40, 10000)\n",
    "g = 1.078\n",
    "\n",
    "solution = solve(tt, initial_value, w0, w, b, g)\n",
    "\n",
    "_xx, _yy = state_space_trajectory(solution)\n",
    "plt.figure(figsize=(6.4*2,4.8*2))\n",
    "plt.plot(_xx, _yy)\n",
    "plt.scatter(initial_value[0], initial_value[1])\n",
    "plt.show()"
   ]
  },
  {
   "cell_type": "code",
   "execution_count": null,
   "metadata": {},
   "outputs": [],
   "source": []
  }
 ],
 "metadata": {
  "kernelspec": {
   "display_name": "Python 3",
   "language": "python",
   "name": "python3"
  },
  "language_info": {
   "codemirror_mode": {
    "name": "ipython",
    "version": 3
   },
   "file_extension": ".py",
   "mimetype": "text/x-python",
   "name": "python",
   "nbconvert_exporter": "python",
   "pygments_lexer": "ipython3",
   "version": "3.7.3"
  }
 },
 "nbformat": 4,
 "nbformat_minor": 2
}
