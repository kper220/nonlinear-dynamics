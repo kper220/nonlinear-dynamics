{
 "cells": [
  {
   "cell_type": "markdown",
   "metadata": {},
   "source": [
    "# Driven Damped Pendulum\n",
    "\n",
    "The DDP equations of motion:\n",
    "$$\\ddot{\\phi} + 2\\beta\\dot{\\phi} + \\omega_0^2\\sin\\phi = \\gamma\\omega_0^2\\cos\\omega t.$$"
   ]
  },
  {
   "cell_type": "code",
   "execution_count": null,
   "metadata": {},
   "outputs": [],
   "source": [
    "import matplotlib.pyplot as plt\n",
    "from mpl_toolkits import mplot3d\n",
    "import numpy as np\n",
    "\n",
    "from driven_damped_pendulum import solve, difference, repeated_points, state_space_trajectory"
   ]
  },
  {
   "cell_type": "code",
   "execution_count": null,
   "metadata": {},
   "outputs": [],
   "source": [
    "# initial conditions\n",
    "w = 2*np.pi\n",
    "w0 = 1.5*w\n",
    "b = w0/4\n",
    "initial_value = np.array([-np.pi/2, 0])\n",
    "\n",
    "# sample spaces\n",
    "tt = np.linspace(0, 10, 1000)\n",
    "g = 1.065\n",
    "\n",
    "solution = solve(tt, initial_value, w0, w, b, g)\n",
    "g_extract, s_extract = repeated_points(tt, g, solution, displacement=500)\n",
    "\n",
    "plt.figure(figsize=(6.4*2,4.8*2))\n",
    "plt.plot(tt, solution)\n",
    "plt.show()"
   ]
  },
  {
   "cell_type": "code",
   "execution_count": null,
   "metadata": {},
   "outputs": [],
   "source": [
    "plt.figure(figsize=(6.4*2,4.8*2))\n",
    "plt.scatter(g_extract, s_extract, alpha=.1)\n",
    "plt.show()"
   ]
  },
  {
   "cell_type": "markdown",
   "metadata": {},
   "source": [
    "## Drive Strength and Time\n",
    "\n",
    "DDP is chaotic for select values of $\\gamma$, all else fixed."
   ]
  },
  {
   "cell_type": "code",
   "execution_count": null,
   "metadata": {},
   "outputs": [],
   "source": [
    "tt = np.linspace(0, 40, 1000)\n",
    "gg = np.linspace(1.06, 1.085, 100)\n",
    "\n",
    "T, G = np.meshgrid(tt, gg)\n",
    "S = solve(tt, initial_value, w0, w, b, gg)"
   ]
  },
  {
   "cell_type": "code",
   "execution_count": null,
   "metadata": {},
   "outputs": [],
   "source": [
    "plt.figure(figsize=(6.4*2,4.8*2))\n",
    "plt.contour(T, G, S, 100)\n",
    "plt.show()"
   ]
  },
  {
   "cell_type": "markdown",
   "metadata": {},
   "source": [
    "## Initial Condition and Time\n",
    "\n",
    "DDP exhibits chaos (sensitivity to initial conditions) when $\\gamma = 1.2$."
   ]
  },
  {
   "cell_type": "code",
   "execution_count": null,
   "metadata": {},
   "outputs": [],
   "source": [
    "tt = np.linspace(0, 4, 100)\n",
    "vv = np.linspace(-np.pi/2, np.pi/2, 100)\n",
    "initial_values = np.array([np.array([v, 0]) for v in vv])\n",
    "g = 1.0793\n",
    "\n",
    "T, V = np.meshgrid(tt, vv)\n",
    "S = solve(tt, initial_values, w0, w, b, g)"
   ]
  },
  {
   "cell_type": "code",
   "execution_count": null,
   "metadata": {},
   "outputs": [],
   "source": [
    "plt.figure(figsize=(6.4*2,4.8*2))\n",
    "plt.contour(T, V, S, 100)\n",
    "plt.show()"
   ]
  },
  {
   "cell_type": "markdown",
   "metadata": {},
   "source": [
    "## Log plot of separation"
   ]
  },
  {
   "cell_type": "code",
   "execution_count": null,
   "metadata": {
    "scrolled": false
   },
   "outputs": [],
   "source": [
    "tt = np.linspace(0, 10, 500)\n",
    "\n",
    "vv = [0, 10**-4]\n",
    "initial_value = np.array([[v, 0] for v in vv])\n",
    "\n",
    "g = 1.105\n",
    "\n",
    "solution = solve(tt, initial_value, w0, w, b, g)\n",
    "d = difference(solution)\n",
    "plt.figure(figsize=(6.4*2,4.8*2))\n",
    "plt.plot(tt, d)\n",
    "plt.show()\n",
    "\n",
    "tt = np.linspace(0, 20, 100)\n",
    "vv = np.linspace(0, .001, 100)\n",
    "initial_value = np.array([[v, 0] for v in vv])\n",
    "solution = solve(tt, initial_value, w0, w, b, g)\n",
    "D = difference(solution)\n",
    "\n",
    "T, V = np.meshgrid(tt, vv[1:])\n",
    "plt.figure(figsize=(6.4*2,4.8*2))\n",
    "plt.contour(T, V, D, 100)\n",
    "plt.show()"
   ]
  },
  {
   "cell_type": "code",
   "execution_count": null,
   "metadata": {},
   "outputs": [],
   "source": []
  }
 ],
 "metadata": {
  "kernelspec": {
   "display_name": "Python 3",
   "language": "python",
   "name": "python3"
  },
  "language_info": {
   "codemirror_mode": {
    "name": "ipython",
    "version": 3
   },
   "file_extension": ".py",
   "mimetype": "text/x-python",
   "name": "python",
   "nbconvert_exporter": "python",
   "pygments_lexer": "ipython3",
   "version": "3.7.3"
  }
 },
 "nbformat": 4,
 "nbformat_minor": 2
}
